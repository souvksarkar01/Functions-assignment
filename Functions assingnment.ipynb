{
  "metadata": {
    "kernelspec": {
      "name": "python",
      "display_name": "Python (Pyodide)",
      "language": "python"
    },
    "language_info": {
      "codemirror_mode": {
        "name": "python",
        "version": 3
      },
      "file_extension": ".py",
      "mimetype": "text/x-python",
      "name": "python",
      "nbconvert_exporter": "python",
      "pygments_lexer": "ipython3",
      "version": "3.8"
    }
  },
  "nbformat_minor": 4,
  "nbformat": 4,
  "cells": [
    {
      "cell_type": "raw",
      "source": "1) What is the difference between a function and a method in Python?\nAns: Functions are independent blocks of code that can be called from anywhere, while methods are tied to objects or classes and need an object or class instance to be invoked. \n\n",
      "metadata": {}
    },
    {
      "cell_type": "code",
      "source": "def add_numbers(x, y):\n  return x + y\n",
      "metadata": {
        "trusted": true
      },
      "outputs": [],
      "execution_count": 6
    },
    {
      "cell_type": "code",
      "source": "add_numbers(3,5)",
      "metadata": {
        "trusted": true
      },
      "outputs": [
        {
          "execution_count": 5,
          "output_type": "execute_result",
          "data": {
            "text/plain": "8"
          },
          "metadata": {}
        }
      ],
      "execution_count": 5
    },
    {
      "cell_type": "code",
      "source": "def Subtract (a, b):\n\treturn (a-b)\n\nprint( Subtract(10, 12) ) # prints -2\n\nprint( Subtract(15, 6) ) # prints 9\n",
      "metadata": {
        "trusted": true
      },
      "outputs": [
        {
          "name": "stdout",
          "text": "-2\n9\n",
          "output_type": "stream"
        }
      ],
      "execution_count": 9
    },
    {
      "cell_type": "raw",
      "source": "2)  Explain the concept of function arguments and parameters in Python.\nAns: Parameters: Parameters are the variables listed inside the parentheses in the function definition. They act as placeholders for the values that will be passed to the function when it's called. Parameters define the input that a function can accept. They allow you to write reusable code that can operate on different data.\nArguments: Arguments are the actual values passed to a function when it is called. They are the data that fills in the placeholders defined by the parameters. Arguments provide the specific information that the function needs to perform its task.",
      "metadata": {}
    },
    {
      "cell_type": "code",
      "source": "# Here a,b are the parameters\ndef sum(a,b):\n  print(a+b)\n  \nsum(1,2)",
      "metadata": {
        "trusted": true
      },
      "outputs": [
        {
          "name": "stdout",
          "text": "3\n",
          "output_type": "stream"
        }
      ],
      "execution_count": 20
    },
    {
      "cell_type": "code",
      "source": "def sum(a,b):\n  print(a+b)\n  \n# Here the values 1,2 are arguments\nsum(1,2)",
      "metadata": {
        "trusted": true
      },
      "outputs": [
        {
          "name": "stdout",
          "text": "3\n",
          "output_type": "stream"
        }
      ],
      "execution_count": 21
    },
    {
      "cell_type": "raw",
      "source": "3) What are the different ways to define and call a function in Python?\nAns: ",
      "metadata": {}
    },
    {
      "cell_type": "code",
      "source": "# standard function defination\ndef greet(name):\n    print(\"Hello,\", name)\n\ngreet(\"Alice\")  # Calling the function",
      "metadata": {
        "trusted": true
      },
      "outputs": [
        {
          "name": "stdout",
          "text": "Hello, Alice\n",
          "output_type": "stream"
        }
      ],
      "execution_count": 22
    },
    {
      "cell_type": "code",
      "source": "# functions with return value\ndef add(x, y):\n    return x + y\n\nresult = add(5, 3)\nprint(result)",
      "metadata": {
        "trusted": true
      },
      "outputs": [
        {
          "name": "stdout",
          "text": "8\n",
          "output_type": "stream"
        }
      ],
      "execution_count": 23
    },
    {
      "cell_type": "code",
      "source": "# functions with default arguments\ndef greet(name, message=\"Hello\"):\n    print(message, name)\n\ngreet(\"Bob\")\ngreet(\"Alice\", \"Good morning\")",
      "metadata": {
        "trusted": true
      },
      "outputs": [
        {
          "name": "stdout",
          "text": "Hello Bob\nGood morning Alice\n",
          "output_type": "stream"
        }
      ],
      "execution_count": 24
    },
    {
      "cell_type": "raw",
      "source": "4)  What is the purpose of the `return` statement in a Python function?\nAns: It determines the value that the function will return. If not included, the function defaults to returning None.\n",
      "metadata": {}
    },
    {
      "cell_type": "code",
      "source": " def add(x,y):\n    return x+y\nresult= add (5,3)\nresult\n",
      "metadata": {
        "trusted": true
      },
      "outputs": [
        {
          "execution_count": 38,
          "output_type": "execute_result",
          "data": {
            "text/plain": "8"
          },
          "metadata": {}
        }
      ],
      "execution_count": 38
    },
    {
      "cell_type": "raw",
      "source": "5)  What are iterators in Python and how do they differ from iterables?\nAns:  An iterator is an object that allows traversal through a countable number of values. It is used to iterate over iterable objects like lists, tuples, sets, etc.\nDifference between iterators ans iterables: Iterable is an object, that one can iterate over. It generates an Iterator when passed to iter() method. An iterator is an object, which is used to iterate over an iterable object using the __next__() method. Iterators have the __next__() method, which returns the next item of the object.",
      "metadata": {}
    },
    {
      "cell_type": "code",
      "source": "# list of cities\ncities = [\"Berlin\", \"Vienna\", \"Zurich\"]\n\n# initialize the object\niterator_obj = iter(cities)\n\nprint(next(iterator_obj))\nprint(next(iterator_obj))\nprint(next(iterator_obj))\n\n",
      "metadata": {
        "trusted": true
      },
      "outputs": [
        {
          "name": "stdout",
          "text": "Berlin\nVienna\nZurich\n",
          "output_type": "stream"
        }
      ],
      "execution_count": 40
    },
    {
      "cell_type": "raw",
      "source": "6)  Explain the concept of generators in Python and how they are defined.\nAns: A generator function is a special type of function that returns an iterator object. Instead of using return to send back a single value, generator functions use yield to produce a series of results over time. This allows the function to generate values and pause its execution after each yield, maintaining its state between iterations.",
      "metadata": {}
    },
    {
      "cell_type": "code",
      "source": "def fun(max):\n    cnt = 1\n    while cnt <= max:\n        yield cnt\n        cnt += 1\n\nctr = fun(5)\nfor n in ctr:\n    print(n)",
      "metadata": {
        "trusted": true
      },
      "outputs": [
        {
          "name": "stdout",
          "text": "1\n2\n3\n4\n5\n",
          "output_type": "stream"
        }
      ],
      "execution_count": 41
    },
    {
      "cell_type": "raw",
      "source": "7)  What are the advantages of using generators over regular functions?\nAns:   (1) Efficient Memory Usage: Generators do not store the entire sequence in memory, making them suitable for large datasets or infinite sequences.\n       (2) Simpler Syntax: Using yield simplifies the creation of iterators, making the code more concise and readable.\n",
      "metadata": {}
    },
    {
      "cell_type": "raw",
      "source": "8)  What is a lambda function in Python and when is it typically used?\nAns:  Lambda functions are small, anonymous functions defined using the lambda keyword. They are used for creating small, throwaway functions without the need to formally define a function using def. Lambda functions are not bound to a name. They can contain only one expression, which is evaluated and returned.\n      Lambda functions are typically used for short, one-time operations that can be written in a single line of code. ",
      "metadata": {}
    },
    {
      "cell_type": "code",
      "source": "square= lambda x: x**2\nprint (square(5))",
      "metadata": {
        "trusted": true
      },
      "outputs": [
        {
          "name": "stdout",
          "text": "25\n",
          "output_type": "stream"
        }
      ],
      "execution_count": 45
    },
    {
      "cell_type": "raw",
      "source": "9) Explain the purpose and usage of the `map()` function in Python.\nAns: The map function applies a given function to all items in an input iterable (like a list) and returns an iterator with the results. It Used to transform each item in an iterable by applying the specified function.",
      "metadata": {}
    },
    {
      "cell_type": "code",
      "source": "numbers=[1,2,3,4,5]\nsquared=map(lambda x: x**2, numbers)\nprint(list(squared))",
      "metadata": {
        "trusted": true
      },
      "outputs": [
        {
          "name": "stdout",
          "text": "[1, 4, 9, 16, 25]\n",
          "output_type": "stream"
        }
      ],
      "execution_count": 1
    },
    {
      "cell_type": "raw",
      "source": "10) What is the difference between `map()`, `reduce()`, and `filter()` functions in Python?\nAns:   main differences are :-\n       (1) Output: map() and filter() return iterables, while reduce() returns a single value.\n       (2) Function Application: map() applies the function to each element independently, filter() selectively includes elements based on a condition, and reduce() combines elements using the function.\n       (3) Import: reduce() requires importing from the functools module, while map() and filter() are built-in.",
      "metadata": {}
    },
    {
      "cell_type": "raw",
      "source": "11)  Using pen & Paper write the internal mechanism for sum operation using  reduce function on this given\nlist:[47,11,42,13]\n\nAns: attached doc file.",
      "metadata": {}
    },
    {
      "cell_type": "markdown",
      "source": "### Practical questions",
      "metadata": {}
    },
    {
      "cell_type": "code",
      "source": "# 1. Write a Python function that takes a list of numbers as input and returns the sum of all even numbers in the list.\n\nmyList = [1, 3, 5, 6, 8, 10, 34, 2, 0, 3]\nsum(num for num in myList if not num%2)",
      "metadata": {
        "trusted": true
      },
      "outputs": [
        {
          "execution_count": 6,
          "output_type": "execute_result",
          "data": {
            "text/plain": "60"
          },
          "metadata": {}
        }
      ],
      "execution_count": 6
    },
    {
      "cell_type": "code",
      "source": "# 2. Create a Python function that accepts a string and returns the reverse of that string.\n\ns = \"pwskills\"\nrev = s[::-1]\nprint(rev)",
      "metadata": {
        "trusted": true
      },
      "outputs": [
        {
          "name": "stdout",
          "text": "sllikswp\n",
          "output_type": "stream"
        }
      ],
      "execution_count": 8
    },
    {
      "cell_type": "code",
      "source": "# 3. Implement a Python function that takes a list of integers and returns a new list containing the squares of each number.\n\nl=[1,2,3,4,10,16]\nsquare= map(lambda x: x**2,l)\nprint(list(square))\n\n\n    ",
      "metadata": {
        "trusted": true
      },
      "outputs": [
        {
          "name": "stdout",
          "text": "[1, 4, 9, 16, 100, 256]\n",
          "output_type": "stream"
        }
      ],
      "execution_count": 18
    },
    {
      "cell_type": "code",
      "source": "# 4. Write a Python function that checks if a given number is prime or not from 1 to 200.\n\nimport math\n\ndef is_prime(n):\n    if n < 2:\n        return False\n    i = 2\n    while i*i <= n:\n        if n % i == 0:\n            return False\n        i += 1\n    return True\n\nprint(is_prime(11)) \nprint(is_prime(1))   ",
      "metadata": {
        "trusted": true
      },
      "outputs": [
        {
          "name": "stdout",
          "text": "True\nFalse\n",
          "output_type": "stream"
        }
      ],
      "execution_count": 19
    },
    {
      "cell_type": "code",
      "source": "# 5. Create an iterator class in Python that generates the Fibonacci sequence up to a specified number of terms.\n\nfib= lambda n: n if n<=1 else fib(n-1) + fib(n-2)\n[fib (i) for i in range (10)]",
      "metadata": {
        "trusted": true
      },
      "outputs": [
        {
          "execution_count": 23,
          "output_type": "execute_result",
          "data": {
            "text/plain": "[0, 1, 1, 2, 3, 5, 8, 13, 21, 34]"
          },
          "metadata": {}
        }
      ],
      "execution_count": 23
    },
    {
      "cell_type": "code",
      "source": "# 6. Write a generator function in Python that yields the powers of 2 up to a given exponent.\n\ndef square_numbers_generators(n):\n    for i in range(n):\n        yield i**2\n        ",
      "metadata": {
        "trusted": true
      },
      "outputs": [],
      "execution_count": 24
    },
    {
      "cell_type": "code",
      "source": "gen= square_numbers_generators(10)\ngen",
      "metadata": {
        "trusted": true
      },
      "outputs": [
        {
          "execution_count": 26,
          "output_type": "execute_result",
          "data": {
            "text/plain": "<generator object square_numbers_generators at 0x29675f8>"
          },
          "metadata": {}
        }
      ],
      "execution_count": 26
    },
    {
      "cell_type": "code",
      "source": "next(gen)",
      "metadata": {
        "trusted": true
      },
      "outputs": [
        {
          "execution_count": 28,
          "output_type": "execute_result",
          "data": {
            "text/plain": "0"
          },
          "metadata": {}
        }
      ],
      "execution_count": 28
    },
    {
      "cell_type": "code",
      "source": "next(gen)",
      "metadata": {
        "trusted": true
      },
      "outputs": [
        {
          "execution_count": 29,
          "output_type": "execute_result",
          "data": {
            "text/plain": "1"
          },
          "metadata": {}
        }
      ],
      "execution_count": 29
    },
    {
      "cell_type": "code",
      "source": "next(gen)",
      "metadata": {
        "trusted": true
      },
      "outputs": [
        {
          "execution_count": 30,
          "output_type": "execute_result",
          "data": {
            "text/plain": "4"
          },
          "metadata": {}
        }
      ],
      "execution_count": 30
    },
    {
      "cell_type": "code",
      "source": "next(gen)",
      "metadata": {
        "trusted": true
      },
      "outputs": [
        {
          "execution_count": 31,
          "output_type": "execute_result",
          "data": {
            "text/plain": "9"
          },
          "metadata": {}
        }
      ],
      "execution_count": 31
    },
    {
      "cell_type": "code",
      "source": "next(gen)",
      "metadata": {
        "trusted": true
      },
      "outputs": [
        {
          "execution_count": 32,
          "output_type": "execute_result",
          "data": {
            "text/plain": "16"
          },
          "metadata": {}
        }
      ],
      "execution_count": 32
    },
    {
      "cell_type": "code",
      "source": "next(gen)",
      "metadata": {
        "trusted": true
      },
      "outputs": [
        {
          "execution_count": 33,
          "output_type": "execute_result",
          "data": {
            "text/plain": "25"
          },
          "metadata": {}
        }
      ],
      "execution_count": 33
    },
    {
      "cell_type": "code",
      "source": "next(gen)",
      "metadata": {
        "trusted": true
      },
      "outputs": [
        {
          "execution_count": 34,
          "output_type": "execute_result",
          "data": {
            "text/plain": "36"
          },
          "metadata": {}
        }
      ],
      "execution_count": 34
    },
    {
      "cell_type": "code",
      "source": "next(gen)",
      "metadata": {
        "trusted": true
      },
      "outputs": [
        {
          "execution_count": 35,
          "output_type": "execute_result",
          "data": {
            "text/plain": "49"
          },
          "metadata": {}
        }
      ],
      "execution_count": 35
    },
    {
      "cell_type": "code",
      "source": "next(gen)",
      "metadata": {
        "trusted": true
      },
      "outputs": [
        {
          "execution_count": 36,
          "output_type": "execute_result",
          "data": {
            "text/plain": "64"
          },
          "metadata": {}
        }
      ],
      "execution_count": 36
    },
    {
      "cell_type": "code",
      "source": "next(gen)",
      "metadata": {
        "trusted": true
      },
      "outputs": [
        {
          "execution_count": 37,
          "output_type": "execute_result",
          "data": {
            "text/plain": "81"
          },
          "metadata": {}
        }
      ],
      "execution_count": 37
    },
    {
      "cell_type": "code",
      "source": "next(gen)",
      "metadata": {
        "trusted": true
      },
      "outputs": [
        {
          "ename": "<class 'StopIteration'>",
          "evalue": "",
          "traceback": [
            "\u001b[0;31m---------------------------------------------------------------------------\u001b[0m",
            "\u001b[0;31mStopIteration\u001b[0m                             Traceback (most recent call last)",
            "Cell \u001b[0;32mIn[38], line 1\u001b[0m\n\u001b[0;32m----> 1\u001b[0m \u001b[38;5;28;43mnext\u001b[39;49m\u001b[43m(\u001b[49m\u001b[43mgen\u001b[49m\u001b[43m)\u001b[49m\n",
            "\u001b[0;31mStopIteration\u001b[0m: "
          ],
          "output_type": "error"
        }
      ],
      "execution_count": 38
    },
    {
      "cell_type": "code",
      "source": "# 7. Implement a generator function that reads a file line by line and yields each line as a string.\n\nL = [\"Geeks\\n\", \"for\\n\", \"Geeks\\n\"]\n\nfile1 = open('myfile.txt', 'w')\nfile1.writelines(L)\nfile1.close()\n\nfile1 = open('myfile.txt', 'r')\ncount = 0\n\nprint(\"Using for loop\")\nfor line in file1:\n    count += 1\n    print(\"Line{}: {}\".format(count, line.strip()))\nfile1.close()",
      "metadata": {
        "trusted": true
      },
      "outputs": [
        {
          "name": "stdout",
          "text": "Using for loop\nLine1: Geeks\nLine2: for\nLine3: Geeks\n",
          "output_type": "stream"
        }
      ],
      "execution_count": 46
    },
    {
      "cell_type": "code",
      "source": "# 8. Use a lambda function in Python to sort a list of tuples based on the second element of each tuple.\n\na = [(1, 3), (4, 1), (2, 2)]\nsorted_list = sorted(a, key=lambda x: x[1])\nprint(\"Sorted List:\", sorted_list)",
      "metadata": {
        "trusted": true
      },
      "outputs": [
        {
          "name": "stdout",
          "text": "Sorted List: [(4, 1), (2, 2), (1, 3)]\n",
          "output_type": "stream"
        }
      ],
      "execution_count": 47
    },
    {
      "cell_type": "code",
      "source": "# 9. Write a Python program that uses `map()` to convert a list of temperatures from Celsius to Fahrenheit.\n\ncelcius = [(\"Nashua\",32),(\"Boston\",12),(\"Los Angelos\",44),(\"Miami\",29)]\n\nnewplaces = list(map(lambda c:  (c[0], (9/5) * c[1]+ 32), places))\nprint(newplaces)",
      "metadata": {
        "trusted": true
      },
      "outputs": [
        {
          "name": "stdout",
          "text": "[('Nashua', 89.6), ('Boston', 53.6), ('Los Angelos', 111.2), ('Miami', 84.2)]\n",
          "output_type": "stream"
        }
      ],
      "execution_count": 59
    },
    {
      "cell_type": "code",
      "source": "# 10. Create a Python program that uses `filter()` to remove all the vowels from a given string.\n\na=list(\"pwskills\")\ndef vowel(x):\n    v=('a','e','i','o','u')\n    return x in v\n\nb=list(filter(vowel,a))\nprint(\"Vowels : \",b)",
      "metadata": {
        "trusted": true
      },
      "outputs": [
        {
          "name": "stdout",
          "text": "Vowels :  ['i']\n",
          "output_type": "stream"
        }
      ],
      "execution_count": 60
    },
    {
      "cell_type": "raw",
      "source": "#11) Imagine an accounting routine used in a book shop. It works on a list with sublists, which look like this:\n\n\nOrder Number\t       Book Title and Author\t        Quantity\tPrice per Item\n34587\t             Learning Python, Mark Lutz      \t   4\t         40.95\n98762\t            Programming Python, Mark Lutz\t       5\t         56.80\n77226\t            Head First Python, Paul Barry\t       3\t         32.95\n88112\t          Einführung in Python3, Bernd Klein\t   3\t         24.99\n\n11) Imagine an accounting routine used in a book shop. It works on a list with sublists, which look like this:\n\nWrite a Python program, which returns a list with 2-tuples. Each tuple consists of the order number and the\nproduct of the price per item and the quantity. The product should be increased by 10,- € if the value of the\norder is smaller than 100,00 €.\n\nWrite a Python program using lambda and map.",
      "metadata": {}
    },
    {
      "cell_type": "code",
      "source": "order = [[34587,'Learning Python','Mark Lutz',4,40.95],\n         [98762,'Programming Python','Mark Lutz',5,56.80],\n         [77226,'Head First Python','Paul Barry',3,32.95],\n         [88112,'Einführung in Python3','Bernd Klein',3,24.99]]\nprint(\"Order Summary: \",list(map(lambda x: (x[0],x[-1]) if x[-1]*x[-2] > 100 else x[-1]*x[-2]+10, order)))\n\n        \n",
      "metadata": {
        "trusted": true
      },
      "outputs": [
        {
          "name": "stdout",
          "text": "Order Summary:  [(34587, 40.95), (98762, 56.8), 108.85000000000001, 84.97]\n",
          "output_type": "stream"
        }
      ],
      "execution_count": 9
    },
    {
      "cell_type": "markdown",
      "source": "### Theory question",
      "metadata": {}
    },
    {
      "cell_type": "code",
      "source": "# 11)  Using pen & Paper write the internal mechanism for sum operation using  reduce function on this given list:[47,11,42,13].\nl=[47,11,42,13]\na= reduce (lambda x,y:x+y,l)\nprint(a)",
      "metadata": {
        "trusted": true
      },
      "outputs": [
        {
          "name": "stdout",
          "text": "113\n",
          "output_type": "stream"
        }
      ],
      "execution_count": 4
    },
    {
      "cell_type": "code",
      "source": "",
      "metadata": {
        "trusted": true
      },
      "outputs": [],
      "execution_count": null
    }
  ]
}